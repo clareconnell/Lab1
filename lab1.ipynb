{
  "nbformat": 4,
  "nbformat_minor": 0,
  "metadata": {
    "colab": {
      "name": "lab1.ipynb",
      "provenance": [],
      "collapsed_sections": [],
      "authorship_tag": "ABX9TyNsAHIBjWWIMBOKJphVloj+",
      "include_colab_link": true
    },
    "kernelspec": {
      "name": "python3",
      "display_name": "Python 3"
    }
  },
  "cells": [
    {
      "cell_type": "markdown",
      "metadata": {
        "id": "view-in-github",
        "colab_type": "text"
      },
      "source": [
        "<a href=\"https://colab.research.google.com/github/clareconnell/Lab1/blob/master/lab1.ipynb\" target=\"_parent\"><img src=\"https://colab.research.google.com/assets/colab-badge.svg\" alt=\"Open In Colab\"/></a>"
      ]
    },
    {
      "cell_type": "markdown",
      "metadata": {
        "id": "Ct3cBotFRlJM",
        "colab_type": "text"
      },
      "source": [
        "###Do you like using Jupyter Notebooks?"
      ]
    },
    {
      "cell_type": "markdown",
      "metadata": {
        "id": "J3HI-v92RwE5",
        "colab_type": "text"
      },
      "source": [
        "I have not had much experience using Jupyter Notebooks, so it is hard to decide whether or not I like using the program. I am excited to learn how to use it."
      ]
    },
    {
      "cell_type": "markdown",
      "metadata": {
        "id": "CTvp_tg6R2AJ",
        "colab_type": "text"
      },
      "source": [
        "###What do you want to learn about in Jupyter Notebooks?"
      ]
    },
    {
      "cell_type": "markdown",
      "metadata": {
        "id": "SGe-GHTpR62j",
        "colab_type": "text"
      },
      "source": [
        "I am excited to learn how to use coding languages to develop websites. I have always been really uncomfortable with computer sofware information, so I am enthustastic about getting past that discomfort."
      ]
    },
    {
      "cell_type": "markdown",
      "metadata": {
        "id": "3WV4hthwSAP4",
        "colab_type": "text"
      },
      "source": [
        "![rats](https://raw.githubusercontent.com/clareconnell/Lab1/master/images/82796B14-D92B-4D0B-A31E-4781F943904F.jpeg)\n"
      ]
    }
  ]
}